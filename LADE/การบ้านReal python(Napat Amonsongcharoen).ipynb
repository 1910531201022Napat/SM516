{
 "cells": [
  {
   "cell_type": "code",
   "execution_count": 1,
   "metadata": {},
   "outputs": [],
   "source": [
    "import tkinter as tk # นำเข้า Tkinter ใช้ได้หลากหลาย ควบคุมปุ่ม ป้ายและกล่องข้อความ\n",
    "\n",
    "window = tk.Tk() #กำหนดให้หน้าต่างเป็น tk\n",
    "\n",
    "frame = tk.Frame(master=window, width=250, height=300) #กำหนดค่าของ Frame ให้ความกว้าง 250 สูง 300\n",
    "frame.pack()\n",
    "\n",
    "label1 = tk.Label(master=frame, text=\"My name is Napat Amonsongcharoen\", bg=\"red\") #สร้างข้อความแรกและกำหนดสีพื้นหลัง\n",
    "label1.place(x=25, y=25) #กำหนดตำแหน่งของข้อความในบรรทัดบน label1\n",
    "\n",
    "label2 = tk.Label(master=frame, text=\"I'm an Assistant Technical Analyst\", bg=\"yellow\") #สร้างข้อความและกำหนดสีพื้นหลัง\n",
    "label2.place(x=40, y=50) #กำหนดตำแหน่งของข้อความในบรรทัดบน label2\n",
    "\n",
    "window.mainloop()"
   ]
  },
  {
   "cell_type": "code",
   "execution_count": 7,
   "metadata": {},
   "outputs": [],
   "source": []
  },
  {
   "cell_type": "code",
   "execution_count": null,
   "metadata": {},
   "outputs": [],
   "source": []
  },
  {
   "cell_type": "code",
   "execution_count": null,
   "metadata": {},
   "outputs": [],
   "source": []
  }
 ],
 "metadata": {
  "kernelspec": {
   "display_name": "Python 3",
   "language": "python",
   "name": "python3"
  },
  "language_info": {
   "codemirror_mode": {
    "name": "ipython",
    "version": 3
   },
   "file_extension": ".py",
   "mimetype": "text/x-python",
   "name": "python",
   "nbconvert_exporter": "python",
   "pygments_lexer": "ipython3",
   "version": "3.8.1"
  }
 },
 "nbformat": 4,
 "nbformat_minor": 2
}
