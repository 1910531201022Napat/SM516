{
 "cells": [
  {
   "cell_type": "markdown",
   "metadata": {},
   "source": [
    "# <center>ADVANCED PROGRAMMING (SM516)"
   ]
  },
  {
   "cell_type": "markdown",
   "metadata": {},
   "source": [
    "<img src=\"Napat.jpg\" width=100 align=\"right\"/>"
   ]
  },
  {
   "cell_type": "markdown",
   "metadata": {},
   "source": [
    "<div align=\"right\">Napat Amonsongcharoen<br>1910531201022<br></div>"
   ]
  },
  {
   "cell_type": "markdown",
   "metadata": {},
   "source": [
    "## Books\n",
    "\n",
    "* Mark Lutz [Learning Python, 5th Edition](https://www.amazon.com/Learning-Python-5th-Mark-Lutz/dp/1449355730)\n",
    "    - [Workbook](https://learning-python.com/class/Workbook/)\n",
    "* Johansson [Numerical Python](https://www.amazon.com/NUMERICAL-PYTHON-SCIENTIFIC-APPLICATIONS-MATPLOTLIB/dp/1484246489/ref=dp_ob_title_bk)\n",
    "    - [Workbook](https://github.com/Apress/numerical-python-second-ed)"
   ]
  },
  {
   "cell_type": "markdown",
   "metadata": {},
   "source": [
    "## Link\n",
    "\n",
    "- [Github](https://github.com/)\n",
    "- [Chulalongkorn business school](https://www.youtube.com/watch?v=bu6kwrpOqFM&list=PLoTScYm9O0GH4YQs9t4tf2RIYolHt_YwW)\n",
    "- [Uncle Engineer](https://www.youtube.com/results?search_query=%E0%B8%A5%E0%B8%B8%E0%B8%87%E0%B8%A7%E0%B8%B4%E0%B8%A8%E0%B8%A7%E0%B8%81%E0%B8%A3+%E0%B8%AA%E0%B8%AD%E0%B8%99%E0%B8%84%E0%B9%8D%E0%B8%B2%E0%B8%99%E0%B8%A7%E0%B8%93)\n",
    "- [Algoaddict](https://algoaddict.com/)\n",
    "- [Algoaddict (Facebook Fanpage)](https://www.facebook.com/algoaddict/)\n",
    "- [Real python (Facebook Fanpage)](https://www.facebook.com/LearnRealPython/)\n",
    "- [Download Python](https://www.python.org/)"
   ]
  }
 ],
 "metadata": {
  "kernelspec": {
   "display_name": "Python 3",
   "language": "python",
   "name": "python3"
  },
  "language_info": {
   "codemirror_mode": {
    "name": "ipython",
    "version": 3
   },
   "file_extension": ".py",
   "mimetype": "text/x-python",
   "name": "python",
   "nbconvert_exporter": "python",
   "pygments_lexer": "ipython3",
   "version": "3.8.1"
  }
 },
 "nbformat": 4,
 "nbformat_minor": 2
}
