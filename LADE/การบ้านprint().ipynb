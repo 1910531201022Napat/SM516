{
 "cells": [
  {
   "cell_type": "markdown",
   "metadata": {},
   "source": [
    "การบ้าน"
   ]
  },
  {
   "cell_type": "markdown",
   "metadata": {},
   "source": [
    "## print"
   ]
  },
  {
   "cell_type": "code",
   "execution_count": 1,
   "metadata": {},
   "outputs": [
    {
     "name": "stdout",
     "output_type": "stream",
     "text": [
      "Hello\n",
      "My name is Napat\n"
     ]
    }
   ],
   "source": [
    "#การแสดงผลเป็นข้อความ \n",
    "\n",
    "print(\"Hello\")\n",
    "print(\"My name is Napat\")"
   ]
  },
  {
   "cell_type": "code",
   "execution_count": 2,
   "metadata": {},
   "outputs": [
    {
     "name": "stdout",
     "output_type": "stream",
     "text": [
      "THAILAND USA ENGLAND\n"
     ]
    }
   ],
   "source": [
    "#การส่งค่าแบบหลายอาร์กิวเมนต์\n",
    "\n",
    "print(\"THAILAND\", \"USA\", \"ENGLAND\")"
   ]
  },
  {
   "cell_type": "code",
   "execution_count": 3,
   "metadata": {},
   "outputs": [
    {
     "name": "stdout",
     "output_type": "stream",
     "text": [
      "Napat\n",
      "Amonsongcharoen\n"
     ]
    }
   ],
   "source": [
    "#การแสดงผลข้อมูลจากตัวแปร name และตัวแปร surname\n",
    "\n",
    "name = \"Napat\"\n",
    "surname = \"Amonsongcharoen\"\n",
    "\n",
    "print(name)\n",
    "print(surname)"
   ]
  },
  {
   "cell_type": "code",
   "execution_count": 5,
   "metadata": {},
   "outputs": [
    {
     "name": "stdout",
     "output_type": "stream",
     "text": [
      "Welcome to Thailand\n",
      "\n",
      "\n",
      "\n",
      "\n",
      "\n",
      "\n",
      "\n",
      "\n",
      "\n",
      "Welcome to Bangkok\n"
     ]
    }
   ],
   "source": [
    "#เว้นบรรทัดในการแสดงผลโดยใช้ \\n\n",
    "\n",
    "print (\"Welcome to Thailand\")\n",
    "print (8 * \"\\n\")\n",
    "print (\"Welcome to Bangkok\")\n"
   ]
  },
  {
   "cell_type": "code",
   "execution_count": 10,
   "metadata": {},
   "outputs": [
    {
     "name": "stdout",
     "output_type": "stream",
     "text": [
      "Welcome to  Thailand "
     ]
    }
   ],
   "source": [
    "#สามารถใส่ end เพื่อแสดงค่าต่อท้ายได้\n",
    "\n",
    "print (\"Welcome to\", end = '  Thailand ') "
   ]
  },
  {
   "cell_type": "code",
   "execution_count": 6,
   "metadata": {},
   "outputs": [
    {
     "name": "stdout",
     "output_type": "stream",
     "text": [
      "Python language\n",
      "Version 3.600000\n",
      "123\n",
      "Python 3.600000 123\n"
     ]
    }
   ],
   "source": [
    "lang = \"Python\"\n",
    "version = 3.6\n",
    "\n",
    "#%s สำหรับการแสดงผล String หรือข้อความ\n",
    "print(\"%s language\" % lang)\n",
    "\n",
    "#%f สำหรับการแสดงผล Float หรือจุดทศนิยม\n",
    "print(\"Version %f\" % version)\n",
    "\n",
    "#%d สำหรับการแสดงผล Integer\n",
    "print(\"%d\" % 123)\n",
    "\n",
    "print(\"%s %f %d\" % (lang, version, 123))"
   ]
  },
  {
   "cell_type": "code",
   "execution_count": 11,
   "metadata": {},
   "outputs": [
    {
     "name": "stdout",
     "output_type": "stream",
     "text": [
      "<class 'float'>\n",
      "<class 'int'>\n",
      "<class 'str'>\n"
     ]
    }
   ],
   "source": [
    "#แสดงผลจากเงื่อนไข\n",
    "x = 10\n",
    "y = 5\n",
    "print (x>=11)\n",
    "print (y>=10)\n",
    "print (x>=10 and y>=10)\n",
    "print (x>=10 or y>=10)"
   ]
  },
  {
   "cell_type": "code",
   "execution_count": 8,
   "metadata": {},
   "outputs": [
    {
     "name": "stdout",
     "output_type": "stream",
     "text": [
      "hihihi\n"
     ]
    }
   ],
   "source": [
    "# การสั่งพิมพ์ซ้ำด้วย *\n",
    "\n",
    "hello = \"hi\"\n",
    "print(hello * 3)"
   ]
  },
  {
   "cell_type": "code",
   "execution_count": 15,
   "metadata": {},
   "outputs": [
    {
     "name": "stdout",
     "output_type": "stream",
     "text": [
      "R = 12.56\n"
     ]
    }
   ],
   "source": [
    "# แสดงค่าตามสมการพร้อมกำหนดจุดทศนิยม 2 ตำแหน่ง\n",
    "R = 3.14 * 2 ** 2\n",
    "print('R = {:.2f}'.format(R))"
   ]
  },
  {
   "cell_type": "code",
   "execution_count": 10,
   "metadata": {},
   "outputs": [
    {
     "name": "stdout",
     "output_type": "stream",
     "text": [
      "2.151617298\n",
      " 2.15 \n"
     ]
    }
   ],
   "source": [
    "# การแสดงผลเป็นทศนิยม 2 ตำแหน่ง\n",
    "x =2.151617298\n",
    "print('{0}' .format(x))\n",
    "print(' {:.2f} ' .format(x))"
   ]
  },
  {
   "cell_type": "code",
   "execution_count": null,
   "metadata": {},
   "outputs": [],
   "source": [
    "\\n = new line\n",
    "\\t = tab\n",
    "\\a = bell # เสียงระฆัง"
   ]
  },
  {
   "cell_type": "code",
   "execution_count": null,
   "metadata": {},
   "outputs": [],
   "source": [
    "print('Covid\\n19')"
   ]
  },
  {
   "cell_type": "code",
   "execution_count": null,
   "metadata": {},
   "outputs": [],
   "source": [
    "print('Covid\\t19')"
   ]
  },
  {
   "cell_type": "code",
   "execution_count": null,
   "metadata": {},
   "outputs": [],
   "source": []
  },
  {
   "cell_type": "code",
   "execution_count": null,
   "metadata": {},
   "outputs": [],
   "source": []
  },
  {
   "cell_type": "code",
   "execution_count": null,
   "metadata": {},
   "outputs": [],
   "source": []
  },
  {
   "cell_type": "code",
   "execution_count": null,
   "metadata": {},
   "outputs": [],
   "source": []
  },
  {
   "cell_type": "code",
   "execution_count": null,
   "metadata": {},
   "outputs": [],
   "source": []
  }
 ],
 "metadata": {
  "kernelspec": {
   "display_name": "Python 3",
   "language": "python",
   "name": "python3"
  },
  "language_info": {
   "codemirror_mode": {
    "name": "ipython",
    "version": 3
   },
   "file_extension": ".py",
   "mimetype": "text/x-python",
   "name": "python",
   "nbconvert_exporter": "python",
   "pygments_lexer": "ipython3",
   "version": "3.8.1"
  }
 },
 "nbformat": 4,
 "nbformat_minor": 2
}
