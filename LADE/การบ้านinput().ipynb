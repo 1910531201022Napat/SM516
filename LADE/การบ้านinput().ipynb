{
 "cells": [
  {
   "cell_type": "markdown",
   "metadata": {},
   "source": [
    "## input"
   ]
  },
  {
   "cell_type": "code",
   "execution_count": 1,
   "metadata": {},
   "outputs": [
    {
     "name": "stdout",
     "output_type": "stream",
     "text": [
      "Enter Employee Nameกด\n",
      "Enter salaryหกด\n",
      "Enter Company nameหกด\n",
      "Printing Employee Details\n",
      "Name Salary Company\n",
      "กด หกด หกด\n"
     ]
    }
   ],
   "source": [
    "#ใส่ค่าตามประเภทที่ต้องการ\n",
    "name    = input(\"Enter Employee Name\")\n",
    "salary  = input(\"Enter salary\")\n",
    "company = input (\"Enter Company name\")\n",
    "print(\"Printing Employee Details\")\n",
    "print (\"Name\", \"Salary\", \"Company\")\n",
    "print (name, salary, company)"
   ]
  },
  {
   "cell_type": "code",
   "execution_count": null,
   "metadata": {},
   "outputs": [],
   "source": [
    "#ป้อนค่าให้แสดงผลตามสมการที่ตั้งไว้\n",
    "\n",
    "first_number = int ( input (\"Enter first number\") )\n",
    "second_number = int ( input (\"Enter second number\") )\n",
    "\n",
    "sum = first_number + second_number\n",
    "\n",
    "print(\"Addition of two number is: \", sum)"
   ]
  },
  {
   "cell_type": "code",
   "execution_count": null,
   "metadata": {},
   "outputs": [],
   "source": [
    "# ป้อนค่าให้แสดงพร้อมประเภท\n",
    "float_number = float (input(\"Enter a float number\") )\n",
    "print (\"input float number is: \", float_number )\n",
    "print (\"type is:\", type(float_number) )"
   ]
  },
  {
   "cell_type": "code",
   "execution_count": null,
   "metadata": {},
   "outputs": [],
   "source": [
    "# การรับข้อมูลตัวเลขทศนิยม (float) จากแป้นพิมพ์\n",
    "\n",
    "pi = 3.1459265\n",
    "r = float(input(\"Input radius: \"))\n",
    "area = pi * r ** 2\n",
    "print(\"area of circle = {}\" .format(area))"
   ]
  },
  {
   "cell_type": "code",
   "execution_count": null,
   "metadata": {},
   "outputs": [],
   "source": []
  },
  {
   "cell_type": "code",
   "execution_count": null,
   "metadata": {},
   "outputs": [],
   "source": []
  },
  {
   "cell_type": "code",
   "execution_count": null,
   "metadata": {},
   "outputs": [],
   "source": []
  },
  {
   "cell_type": "code",
   "execution_count": null,
   "metadata": {},
   "outputs": [],
   "source": []
  }
 ],
 "metadata": {
  "kernelspec": {
   "display_name": "Python 3",
   "language": "python",
   "name": "python3"
  },
  "language_info": {
   "codemirror_mode": {
    "name": "ipython",
    "version": 3
   },
   "file_extension": ".py",
   "mimetype": "text/x-python",
   "name": "python",
   "nbconvert_exporter": "python",
   "pygments_lexer": "ipython3",
   "version": "3.8.1"
  }
 },
 "nbformat": 4,
 "nbformat_minor": 2
}
