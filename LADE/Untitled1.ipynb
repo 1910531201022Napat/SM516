{
 "cells": [
  {
   "cell_type": "code",
   "execution_count": 1,
   "metadata": {},
   "outputs": [],
   "source": [
    "import mymodule as mm"
   ]
  },
  {
   "cell_type": "code",
   "execution_count": 2,
   "metadata": {},
   "outputs": [
    {
     "name": "stderr",
     "output_type": "stream",
     "text": [
      "UsageError: Cell magic `%%zipline` not found.\n"
     ]
    }
   ],
   "source": [
    "%%zipline --start 2015-8-11 --end 2017-12-31 --capital-base 10000.0 -o moving_average_crossover.pkl\n",
    "\n",
    "# imports \n",
    "from zipline.api import order_percent, record, symbol, order_target\n",
    "from zipline.finance import commission\n",
    "\n",
    "# parameters \n",
    "SELECTED_STOCK = 'TSLA'\n",
    "SLOW_MA_PERIODS = 100\n",
    "FAST_MA_PERIODS = 20\n",
    "\n",
    "def initialize(context):\n",
    "    context.time = 0\n",
    "    context.asset = symbol(SELECTED_STOCK)\n",
    "    context.set_commission(commission.PerShare(cost=0.0, min_trade_cost=0))\n",
    "    context.has_position = False\n",
    "    \n",
    "def handle_data(context, data):\n",
    "    context.time += 1\n",
    "    if context.time < SLOW_MA_PERIODS:\n",
    "        return\n",
    "\n",
    "    fast_ma = data.history(context.asset, 'price', bar_count=FAST_MA_PERIODS, frequency=\"1d\").mean()\n",
    "    slow_ma = data.history(context.asset, 'price', bar_count=SLOW_MA_PERIODS, frequency=\"1d\").mean()\n",
    "\n",
    "    # Trading logic\n",
    "    if (fast_ma > slow_ma) & (not context.has_position):\n",
    "        order_percent(context.asset, 1.0)\n",
    "        context.has_position = True\n",
    "    elif (fast_ma < slow_ma) & (context.has_position):\n",
    "        order_target(context.asset, 0)\n",
    "        context.has_position = False\n",
    "\n",
    "    record(price=data.current(context.asset, 'price'),\n",
    "           fast_ma=fast_ma,\n",
    "           slow_ma=slow_ma)"
   ]
  },
  {
   "cell_type": "code",
   "execution_count": 42,
   "metadata": {},
   "outputs": [],
   "source": [
    "def print_big(letter):\n",
    "    patterns = {1:'  *  ',2:' * * ',3:'*   *',4:'*****',5:'**** ',6:'   * ',7:' *   ',8:'*   * ',9:'*    '}\n",
    "    alphabet = {'A':[1,2,4,3,3],'B':[5,3,5,3,5],'C':[4,9,9,9,4],'D':[5,3,3,3,5],'E':[4,9,4,9,4],'F':[4,9,5,9,9]}\n",
    "    for line in range(5):\n",
    "        for alpha in letter:\n",
    "            print(patterns[alphabet[alpha.upper()][line]], end = '  ')\n",
    "        print()    "
   ]
  },
  {
   "cell_type": "code",
   "execution_count": 43,
   "metadata": {},
   "outputs": [
    {
     "name": "stdout",
     "output_type": "stream",
     "text": [
      "  *      *    ****   ****   *****  *****  ****   ****   *****  *****  *****  *****  \n",
      " * *    * *   *   *  *   *  *      *      *   *  *   *  *      *      *      *      \n",
      "*****  *****  ****   ****   *      *      *   *  *   *  *****  *****  ****   ****   \n",
      "*   *  *   *  *   *  *   *  *      *      *   *  *   *  *      *      *      *      \n",
      "*   *  *   *  ****   ****   *****  *****  ****   ****   *****  *****  *      *      \n"
     ]
    }
   ],
   "source": [
    "print_big('aabbccddeeff')"
   ]
  },
  {
   "cell_type": "code",
   "execution_count": null,
   "metadata": {},
   "outputs": [],
   "source": []
  }
 ],
 "metadata": {
  "kernelspec": {
   "display_name": "Python 3",
   "language": "python",
   "name": "python3"
  },
  "language_info": {
   "codemirror_mode": {
    "name": "ipython",
    "version": 3
   },
   "file_extension": ".py",
   "mimetype": "text/x-python",
   "name": "python",
   "nbconvert_exporter": "python",
   "pygments_lexer": "ipython3",
   "version": "3.8.1"
  }
 },
 "nbformat": 4,
 "nbformat_minor": 2
}
