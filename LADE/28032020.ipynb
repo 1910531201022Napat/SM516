{
 "cells": [
  {
   "cell_type": "markdown",
   "metadata": {},
   "source": [
    "ปี = 2020\n",
    "เหตุการณ์ = 'การระบาดของ Covid19'\n",
    "print('ในปี {ปี} 'มีเหตุการณ์สำคัญคือ' + เหตุการณ์)"
   ]
  },
  {
   "cell_type": "code",
   "execution_count": 4,
   "metadata": {},
   "outputs": [
    {
     "name": "stdout",
     "output_type": "stream",
     "text": [
      "ฉันต้องการฉีดบางอย่างและอีกอย่างไปที่นี่\n"
     ]
    }
   ],
   "source": [
    "print('ฉันต้องการฉีด%sและ%sไปที่นี่'%('บางอย่าง','อีกอย่าง'))"
   ]
  },
  {
   "cell_type": "code",
   "execution_count": 6,
   "metadata": {},
   "outputs": [
    {
     "name": "stdout",
     "output_type": "stream",
     "text": [
      "หล่อนบอกว่าหล่อนมีแฟนชื่อ สุเมธ \n",
      "หล่อนบอกว่าหล่อนมีแฟนชื่อ 'สุเมธ' \n"
     ]
    }
   ],
   "source": [
    "print('หล่อนบอกว่าหล่อนมีแฟนชื่อ %s '%'สุเมธ')\n",
    "print('หล่อนบอกว่าหล่อนมีแฟนชื่อ %r '%'สุเมธ')"
   ]
  },
  {
   "cell_type": "code",
   "execution_count": 9,
   "metadata": {},
   "outputs": [
    {
     "name": "stdout",
     "output_type": "stream",
     "text": [
      "หล่อนบอกว่าแขนของ นภัทร\tใหญ่ \n",
      "หล่อนบอกว่าแขนของ 'นภัทร\\tใหญ่' \n"
     ]
    }
   ],
   "source": [
    "print('หล่อนบอกว่าแขนของ %s '%'นภัทร\\tใหญ่')\n",
    "print('หล่อนบอกว่าแขนของ %r '%'นภัทร\\tใหญ่')"
   ]
  },
  {
   "cell_type": "markdown",
   "metadata": {},
   "source": [
    "%d รูปแบบตัวเลขเป็นจำนวนเต็ม (integer)"
   ]
  },
  {
   "cell_type": "code",
   "execution_count": 11,
   "metadata": {},
   "outputs": [
    {
     "name": "stdout",
     "output_type": "stream",
     "text": [
      "น้ำหอม Victoria secret ราคา 3.22 บาท \n"
     ]
    }
   ],
   "source": [
    "print('น้ำหอม Victoria secret ราคา %s บาท '%3.22)"
   ]
  },
  {
   "cell_type": "code",
   "execution_count": 16,
   "metadata": {},
   "outputs": [
    {
     "name": "stdout",
     "output_type": "stream",
     "text": [
      "กรณ์เป็นหนี้ฟ้าอยู่ 12.35 ล้านบาท\n"
     ]
    }
   ],
   "source": [
    "print('กรณ์เป็นหนี้ฟ้าอยู่ %5.2f ล้านบาท'%(12.345)) # a คือ 5 ช่อง - ไม่มี spacebar"
   ]
  },
  {
   "cell_type": "code",
   "execution_count": 17,
   "metadata": {},
   "outputs": [
    {
     "name": "stdout",
     "output_type": "stream",
     "text": [
      "กรณ์เป็นหนี้ฟ้าอยู่ 12 ล้านบาท\n"
     ]
    }
   ],
   "source": [
    "print('กรณ์เป็นหนี้ฟ้าอยู่ %1.0f ล้านบาท'%(12.345)) # a มี 1ช่อง - ไม่มี spacebar"
   ]
  },
  {
   "cell_type": "code",
   "execution_count": 18,
   "metadata": {},
   "outputs": [
    {
     "name": "stdout",
     "output_type": "stream",
     "text": [
      "กรณ์เป็นหนี้ฟ้าอยู่      12.35 ล้านบาท\n"
     ]
    }
   ],
   "source": [
    "print('กรณ์เป็นหนี้ฟ้าอยู่ %10.2f ล้านบาท'%(12.345)) # a คือ 10 (ตัวเลขทั้งหมด 2+1+2 = 5) มีช่องว่างนำหน้า = 10-5"
   ]
  },
  {
   "cell_type": "code",
   "execution_count": 15,
   "metadata": {},
   "outputs": [
    {
     "name": "stdout",
     "output_type": "stream",
     "text": [
      "กรณ์เป็นหนี้ฟ้าอยู่                12.35 ล้านบาท\n"
     ]
    }
   ],
   "source": [
    "print('กรณ์เป็นหนี้ฟ้าอยู่ %20.2f ล้านบาท'%(12.345))"
   ]
  },
  {
   "cell_type": "markdown",
   "metadata": {},
   "source": [
    "## ข้อสอบระดับปริญญาตรี"
   ]
  },
  {
   "cell_type": "markdown",
   "metadata": {},
   "source": [
    "จัดรูปกับ.Format() method"
   ]
  },
  {
   "cell_type": "code",
   "execution_count": 20,
   "metadata": {},
   "outputs": [
    {
     "name": "stdout",
     "output_type": "stream",
     "text": [
      "โควิดฉีดด้วย ศฤงษ์\n"
     ]
    }
   ],
   "source": [
    "print('โควิดฉีดด้วย {}'.format('ศฤงษ์'))"
   ]
  },
  {
   "cell_type": "code",
   "execution_count": 24,
   "metadata": {},
   "outputs": [
    {
     "name": "stdout",
     "output_type": "stream",
     "text": [
      "ลำดับความหล่อ ศฤงษ์  นภัทร  สุเมธ\n"
     ]
    }
   ],
   "source": [
    "print('ลำดับความหล่อ {1}  {2}  {0}'.format('สุเมธ', 'ศฤงษ์', 'นภัทร'))"
   ]
  },
  {
   "cell_type": "code",
   "execution_count": 29,
   "metadata": {},
   "outputs": [
    {
     "ename": "SyntaxError",
     "evalue": "invalid syntax (<ipython-input-29-f0f0a532f1d5>, line 1)",
     "output_type": "error",
     "traceback": [
      "\u001b[1;36m  File \u001b[1;32m\"<ipython-input-29-f0f0a532f1d5>\"\u001b[1;36m, line \u001b[1;32m1\u001b[0m\n\u001b[1;33m    print('ลำดับความหล่อ {a}  {b}  {c}.format(a = 'สุเมธ', b = 'ศฤงษ์', c = 'นภัทร')')\u001b[0m\n\u001b[1;37m                                                   ^\u001b[0m\n\u001b[1;31mSyntaxError\u001b[0m\u001b[1;31m:\u001b[0m invalid syntax\n"
     ]
    }
   ],
   "source": [
    "print('ลำดับความหล่อ {a}  {b}  {c}.format(a = 'สุเมธ', b = 'ศฤงษ์', c = 'นภัทร')')"
   ]
  },
  {
   "cell_type": "markdown",
   "metadata": {},
   "source": [
    "## ใช้เครื่องหมายกำกับได้\n",
    "\n",
    ".<ชิดซ้าย\n",
    ".>ชิดขวา\n",
    ".^จัดกลาง"
   ]
  },
  {
   "cell_type": "code",
   "execution_count": 30,
   "metadata": {},
   "outputs": [
    {
     "name": "stdout",
     "output_type": "stream",
     "text": [
      "Tell me your lucky number: 20\n",
      "This is a valid number! Your lucky number is:  20\n"
     ]
    }
   ],
   "source": [
    "test3word = input(\"Tell me your lucky number: \")\n",
    "\n",
    "try:\n",
    "    test3num = int(test3word)\n",
    "    print(\"This is a valid number! Your lucky number is: \", test3num)\n",
    "except ValueError:\n",
    "    print(\"This is not a valid number. It isn't a number at all!\")\n",
    "    print(\"This is a string, go and try again. Better luck next time!\")"
   ]
  },
  {
   "cell_type": "code",
   "execution_count": 31,
   "metadata": {},
   "outputs": [
    {
     "name": "stdout",
     "output_type": "stream",
     "text": [
      "What's your name? Napat\n",
      "From 1 to 7, how many hours do you play in your mobile?0001122334\n",
      "Impressive,  Napat ! You spent 67340040 minutes or 4040402400 seconds in your mobile!\n"
     ]
    }
   ],
   "source": [
    "# Makes a function that will contain the\n",
    "# desired program.\n",
    "\n",
    "def example():\n",
    "\n",
    "    # Calls for an infinite loop that keeps executing\n",
    "    # until an exception occurs\n",
    "    while True:\n",
    "        test4word = input(\"What's your name? \")\n",
    "\n",
    "        try:\n",
    "            test4num = int(input(\"From 1 to 7, how many hours do you play in your mobile?\" ))\n",
    "\n",
    "        # If something else that is not the string\n",
    "        # version of a number is introduced, the\n",
    "        # ValueError exception will be called.\n",
    "        except ValueError:\n",
    "            # The cycle will go on until validation\n",
    "            print(\"Error! This is not a number. Try again.\")\n",
    "\n",
    "        # When successfully converted to an integer,\n",
    "        # the loop will end.\n",
    "        else:\n",
    "            print(\"Impressive, \", test4word, \"! You spent\", test4num*60, \n",
    "                  \"minutes or\", test4num*60*60, \"seconds in your mobile!\")\n",
    "            break\n",
    "\n",
    "# The function is called\n",
    "example()"
   ]
  },
  {
   "cell_type": "markdown",
   "metadata": {},
   "source": [
    "การบ้่าน 28/03/2020\n",
    "\n",
    "ให้ยกตัวอย่างการทำงานของ module ipywidgets ทำงานยังไง"
   ]
  },
  {
   "cell_type": "code",
   "execution_count": 33,
   "metadata": {},
   "outputs": [],
   "source": [
    "import ipywidgets"
   ]
  },
  {
   "cell_type": "code",
   "execution_count": null,
   "metadata": {},
   "outputs": [],
   "source": []
  }
 ],
 "metadata": {
  "kernelspec": {
   "display_name": "Python 3",
   "language": "python",
   "name": "python3"
  },
  "language_info": {
   "codemirror_mode": {
    "name": "ipython",
    "version": 3
   },
   "file_extension": ".py",
   "mimetype": "text/x-python",
   "name": "python",
   "nbconvert_exporter": "python",
   "pygments_lexer": "ipython3",
   "version": "3.8.1"
  }
 },
 "nbformat": 4,
 "nbformat_minor": 2
}
